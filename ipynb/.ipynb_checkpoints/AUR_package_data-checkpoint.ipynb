{
 "cells": [
  {
   "cell_type": "markdown",
   "metadata": {},
   "source": [
    "### HTML Parsing\n",
    "\n",
    "In this notebook I will parse the data from 40,000+ AUR packages with beautifulsoup and put the data into a pandas DataFrame. "
   ]
  },
  {
   "cell_type": "code",
   "execution_count": 2,
   "metadata": {
    "collapsed": true
   },
   "outputs": [],
   "source": [
    "from selenium import webdriver\n",
    "import re\n",
    "import time\n",
    "import pandas as pd\n",
    "import numpy as np\n",
    "from bs4 import BeautifulSoup\n",
    "import os\n",
    "import requests\n",
    "import seaborn as sns\n",
    "%matplotlib inline\n",
    "\n",
    "import matplotlib.pyplot as plt\n",
    "import networkx"
   ]
  },
  {
   "cell_type": "code",
   "execution_count": null,
   "metadata": {
    "collapsed": true
   },
   "outputs": [],
   "source": [
    "def get_package_from_link(link):\n",
    "    if link[-1] == \"/\":\n",
    "        link = link[:-1]\n",
    "    link = link.split(\"=\")[-1]\n",
    "    link = link.split(\"/\")[-1]\n",
    "    return link\n",
    "\n",
    "pkg_dict_list = []\n",
    "comments_dict_list = []\n",
    "\n",
    "err_count = 0\n",
    "err_files = []\n",
    "os.chdir('../html/pkgs/')\n",
    "for _, file in enumerate(os.listdir()):\n",
    "    print(_, end=\" \")\n",
    "    if file != 'ghostdriver.log':\n",
    "        f = open(file, 'r')\n",
    "        html = f.read()\n",
    "        b = BeautifulSoup(html, 'lxml')\n",
    "        try:\n",
    "            print(_)\n",
    "            \n",
    "            # attributes\n",
    "            pkginfo = b.find('table', attrs={'id':'pkginfo'}).find_all('tr')\n",
    "            \n",
    "            attr_dict = {}\n",
    "            for attribute in pkginfo:\n",
    "                label = attribute.find('th').text.strip(\": \")\n",
    "                value = attribute.find('td').text\n",
    "                value = value.replace('\\\\n', '\\n')\n",
    "                value = value.replace('\\\\t', '\\t')\n",
    "                value = re.sub('[\\t+]', '', value)\n",
    "                value = re.sub('[\\n+]', '', value)\n",
    "                attr_dict[label] = value\n",
    "\n",
    "            dependencies = []\n",
    "            pkgdeps = b.find('ul', attrs={'id':'pkgdepslist'})\n",
    "            if pkgdeps:\n",
    "                for p in pkgdeps.find_all('li'):\n",
    "                    for link in p.find_all('a'):\n",
    "                        dependencies.append(link['href'])\n",
    "                dependencies = list(set([get_package_from_link(d) for d in dependencies]))\n",
    "            attr_dict['pkgdeps'] = dependencies\n",
    "\n",
    "            requirements = []\n",
    "            pkgreqs = b.find('ul', attrs={'id':'pkgreqslist'})\n",
    "            if pkgreqs:\n",
    "                for p in pkgreqs.find_all('li'):\n",
    "                    for link in p.find_all('a'):\n",
    "                        requirements.append(link['href'])\n",
    "                requirements = list(set([get_package_from_link(d) for d in requirements]))\n",
    "            attr_dict['pkgreqs'] = requirements\n",
    "            \n",
    "            pkg_dict_list.append(attr_dict)\n",
    "            \n",
    "        except: \n",
    "            err_count += 1\n",
    "            err_files.append(file)\n",
    "            print(\"ERROR\")\n",
    "            print(err_count)\n",
    "            print(file)\n",
    "        b.decompose()\n",
    "        f.close()\n",
    "        "
   ]
  },
  {
   "cell_type": "code",
   "execution_count": 9,
   "metadata": {
    "collapsed": true
   },
   "outputs": [],
   "source": [
    "df = pd.DataFrame(pkg_dict_list)\n",
    "df.to_csv('../csv/aur_package_data.csv')"
   ]
  },
  {
   "cell_type": "code",
   "execution_count": 3,
   "metadata": {
    "collapsed": true
   },
   "outputs": [],
   "source": [
    "df = pd.read_csv('../csv/aur_package_data.csv')"
   ]
  },
  {
   "cell_type": "code",
   "execution_count": 4,
   "metadata": {},
   "outputs": [
    {
     "data": {
      "text/html": [
       "<div>\n",
       "<style>\n",
       "    .dataframe thead tr:only-child th {\n",
       "        text-align: right;\n",
       "    }\n",
       "\n",
       "    .dataframe thead th {\n",
       "        text-align: left;\n",
       "    }\n",
       "\n",
       "    .dataframe tbody tr th {\n",
       "        vertical-align: top;\n",
       "    }\n",
       "</style>\n",
       "<table border=\"1\" class=\"dataframe\">\n",
       "  <thead>\n",
       "    <tr style=\"text-align: right;\">\n",
       "      <th></th>\n",
       "      <th>Unnamed: 0</th>\n",
       "      <th>Conflicts</th>\n",
       "      <th>Description</th>\n",
       "      <th>First Submitted</th>\n",
       "      <th>Git Clone URL</th>\n",
       "      <th>Groups</th>\n",
       "      <th>Keywords</th>\n",
       "      <th>Last Packager</th>\n",
       "      <th>Last Updated</th>\n",
       "      <th>Licenses</th>\n",
       "      <th>Maintainer</th>\n",
       "      <th>Package Base</th>\n",
       "      <th>Popularity</th>\n",
       "      <th>Provides</th>\n",
       "      <th>Replaces</th>\n",
       "      <th>Submitter</th>\n",
       "      <th>Upstream URL</th>\n",
       "      <th>Votes</th>\n",
       "      <th>pkgdeps</th>\n",
       "      <th>pkgreqs</th>\n",
       "    </tr>\n",
       "  </thead>\n",
       "  <tbody>\n",
       "    <tr>\n",
       "      <th>14633</th>\n",
       "      <td>14633</td>\n",
       "      <td>NaN</td>\n",
       "      <td>EDB (Evan's Debugger) is a binary mode debugge...</td>\n",
       "      <td>2015-10-12 01:26</td>\n",
       "      <td>https://aur.archlinux.org/edb-debugger-git.git...</td>\n",
       "      <td>NaN</td>\n",
       "      <td>NaN</td>\n",
       "      <td>maz-1</td>\n",
       "      <td>2015-10-12 02:42</td>\n",
       "      <td>GPL2</td>\n",
       "      <td>maz-1</td>\n",
       "      <td>edb-debugger-git</td>\n",
       "      <td>0.754601</td>\n",
       "      <td>NaN</td>\n",
       "      <td>NaN</td>\n",
       "      <td>maz-1</td>\n",
       "      <td>http://www.codef00.com/projects#debugger</td>\n",
       "      <td>2</td>\n",
       "      <td>['capstone', 'qt5-base', 'qt5-xmlpatterns', 'b...</td>\n",
       "      <td>[]</td>\n",
       "    </tr>\n",
       "  </tbody>\n",
       "</table>\n",
       "</div>"
      ],
      "text/plain": [
       "       Unnamed: 0 Conflicts  \\\n",
       "14633       14633       NaN   \n",
       "\n",
       "                                             Description   First Submitted  \\\n",
       "14633  EDB (Evan's Debugger) is a binary mode debugge...  2015-10-12 01:26   \n",
       "\n",
       "                                           Git Clone URL Groups Keywords  \\\n",
       "14633  https://aur.archlinux.org/edb-debugger-git.git...    NaN      NaN   \n",
       "\n",
       "      Last Packager      Last Updated Licenses Maintainer      Package Base  \\\n",
       "14633         maz-1  2015-10-12 02:42     GPL2      maz-1  edb-debugger-git   \n",
       "\n",
       "       Popularity Provides Replaces Submitter  \\\n",
       "14633    0.754601      NaN      NaN     maz-1   \n",
       "\n",
       "                                   Upstream URL  Votes  \\\n",
       "14633  http://www.codef00.com/projects#debugger      2   \n",
       "\n",
       "                                                 pkgdeps pkgreqs  \n",
       "14633  ['capstone', 'qt5-base', 'qt5-xmlpatterns', 'b...      []  "
      ]
     },
     "execution_count": 4,
     "metadata": {},
     "output_type": "execute_result"
    }
   ],
   "source": [
    "df.sample()"
   ]
  },
  {
   "cell_type": "markdown",
   "metadata": {},
   "source": [
    "### Cumulative count of AUR Packages \n",
    "\n",
    "Let's take a look at the cumulative count of AUR packages to see how the community has grown since it came into existence. "
   ]
  },
  {
   "cell_type": "code",
   "execution_count": 7,
   "metadata": {},
   "outputs": [
    {
     "data": {
      "image/png": "[encoded data removed]",
      "text/plain": [
       "<matplotlib.figure.Figure at 0x7f2760944748>"
      ]
     },
     "metadata": {},
     "output_type": "display_data"
    }
   ],
   "source": [
    "sns.set()\n",
    "df = df[df['First Submitted'].notnull()]\n",
    "df[\"First Submitted\"] = pd.to_datetime(df['First Submitted'])\n",
    "list_of_dates = df[\"First Submitted\"].sort_values()\n",
    "counts = np.arange(0, len(list_of_dates))\n",
    "plt.figure(figsize=(10, 5))\n",
    "_ = plt.plot(list_of_dates, counts)\n",
    "_ = plt.title('AUR Packages over time')\n",
    "_ = plt.xlabel('Date')\n",
    "_ = plt.ylabel('Packages')"
   ]
  },
  {
   "cell_type": "code",
   "execution_count": 13,
   "metadata": {
    "scrolled": true
   },
   "outputs": [
    {
     "data": {
      "text/html": [
       "<div>\n",
       "<style>\n",
       "    .dataframe thead tr:only-child th {\n",
       "        text-align: right;\n",
       "    }\n",
       "\n",
       "    .dataframe thead th {\n",
       "        text-align: left;\n",
       "    }\n",
       "\n",
       "    .dataframe tbody tr th {\n",
       "        vertical-align: top;\n",
       "    }\n",
       "</style>\n",
       "<table border=\"1\" class=\"dataframe\">\n",
       "  <thead>\n",
       "    <tr style=\"text-align: right;\">\n",
       "      <th></th>\n",
       "      <th>Conflicts</th>\n",
       "      <th>Description</th>\n",
       "      <th>First Submitted</th>\n",
       "      <th>Git Clone URL</th>\n",
       "      <th>Groups</th>\n",
       "      <th>Keywords</th>\n",
       "      <th>Last Packager</th>\n",
       "      <th>Last Updated</th>\n",
       "      <th>Licenses</th>\n",
       "      <th>Maintainer</th>\n",
       "      <th>Package Base</th>\n",
       "      <th>Popularity</th>\n",
       "      <th>Provides</th>\n",
       "      <th>Replaces</th>\n",
       "      <th>Submitter</th>\n",
       "      <th>Upstream URL</th>\n",
       "      <th>Votes</th>\n",
       "      <th>pkgdeps</th>\n",
       "      <th>pkgreqs</th>\n",
       "    </tr>\n",
       "  </thead>\n",
       "  <tbody>\n",
       "    <tr>\n",
       "      <th>10287</th>\n",
       "      <td>NaN</td>\n",
       "      <td>GSettings schemas for MATE Desktop (GTK2 version)</td>\n",
       "      <td>2017-03-19 18:29</td>\n",
       "      <td>https://aur.archlinux.org/mate-desktop-schemas...</td>\n",
       "      <td>mate-gtk2</td>\n",
       "      <td>NaN</td>\n",
       "      <td>newbthenewbd</td>\n",
       "      <td>2017-07-28 18:22</td>\n",
       "      <td>GPL,LGPL</td>\n",
       "      <td>newbthenewbd</td>\n",
       "      <td>mate-desktop-schemas-gtk2</td>\n",
       "      <td>0.015823</td>\n",
       "      <td>NaN</td>\n",
       "      <td>NaN</td>\n",
       "      <td>newbthenewbd</td>\n",
       "      <td>http://mate-desktop.org</td>\n",
       "      <td>2</td>\n",
       "      <td>[gobject-introspection, intltool]</td>\n",
       "      <td>[marco-gtk2, mate-desktop-gtk2, mate-utils-gtk...</td>\n",
       "    </tr>\n",
       "  </tbody>\n",
       "</table>\n",
       "</div>"
      ],
      "text/plain": [
       "      Conflicts                                        Description  \\\n",
       "10287       NaN  GSettings schemas for MATE Desktop (GTK2 version)   \n",
       "\n",
       "        First Submitted                                      Git Clone URL  \\\n",
       "10287  2017-03-19 18:29  https://aur.archlinux.org/mate-desktop-schemas...   \n",
       "\n",
       "          Groups Keywords Last Packager      Last Updated  Licenses  \\\n",
       "10287  mate-gtk2      NaN  newbthenewbd  2017-07-28 18:22  GPL,LGPL   \n",
       "\n",
       "         Maintainer               Package Base Popularity Provides Replaces  \\\n",
       "10287  newbthenewbd  mate-desktop-schemas-gtk2   0.015823      NaN      NaN   \n",
       "\n",
       "          Submitter             Upstream URL Votes  \\\n",
       "10287  newbthenewbd  http://mate-desktop.org     2   \n",
       "\n",
       "                                 pkgdeps  \\\n",
       "10287  [gobject-introspection, intltool]   \n",
       "\n",
       "                                                 pkgreqs  \n",
       "10287  [marco-gtk2, mate-desktop-gtk2, mate-utils-gtk...  "
      ]
     },
     "execution_count": 13,
     "metadata": {},
     "output_type": "execute_result"
    }
   ],
   "source": [
    "df[df.Groups.notnull()].sample()"
   ]
  },
  {
   "cell_type": "code",
   "execution_count": null,
   "metadata": {
    "collapsed": true
   },
   "outputs": [],
   "source": []
  }
 ],
 "metadata": {
  "kernelspec": {
   "display_name": "Python 3",
   "language": "python",
   "name": "python3"
  },
  "language_info": {
   "codemirror_mode": {
    "name": "ipython",
    "version": 3
   },
   "file_extension": ".py",
   "mimetype": "text/x-python",
   "name": "python",
   "nbconvert_exporter": "python",
   "pygments_lexer": "ipython3",
   "version": "3.6.3"
  }
 },
 "nbformat": 4,
 "nbformat_minor": 2
}
