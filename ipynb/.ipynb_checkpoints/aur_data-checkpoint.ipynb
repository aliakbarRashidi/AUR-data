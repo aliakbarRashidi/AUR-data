{
 "cells": [
  {
   "cell_type": "markdown",
   "metadata": {},
   "source": [
    "## Arch User Repository Data\n",
    "\n",
    "I'm interested in exploring the meta data on the Arch User Repository (AUR). This notebook will show how I scraped data from [https://www.archlinux.org/packages/](https://www.archlinux.org/packages/) and then do some data analysis and visualization. "
   ]
  },
  {
   "cell_type": "markdown",
   "metadata": {},
   "source": [
    "### Scraping data\n",
    "\n",
    "From the AUR we have the following stats: \n",
    "\n",
    "Value | Count\n",
    "---|---\n",
    "Packages | 42909\n",
    "Orphan Packages | 2566\n",
    "Packages added in the past 7 days | 158\n",
    "Packages updated in the past 7 days | 1252\n",
    "Packages updated in the past year | 16338\n",
    "Packages never updated | 9876\n",
    "Registered Users | 48850\n",
    "Trusted Users | 46\n",
    "\n",
    "45557 packages found.\tPage 1 of 183. 250 results per page.\n",
    "\n",
    "In addition to the Arch User Repository, we can also easily gather data for regular Arch Linux packages that are part of the core, community, multilib and extra categories. There are just under 10,000 non-AUR packages that are a core part of Arch Linux. \n"
   ]
  },
  {
   "cell_type": "code",
   "execution_count": 2,
   "metadata": {
    "collapsed": true
   },
   "outputs": [],
   "source": [
    "from selenium import webdriver\n",
    "import re\n",
    "import time\n",
    "import pandas as pd\n",
    "import numpy as np\n",
    "from bs4 import BeautifulSoup\n",
    "import os\n",
    "import requests\n",
    "\n",
    "%matplotlib inline\n",
    "import matplotlib.pyplot as plt\n",
    "import seaborn as sns\n",
    "import networkx"
   ]
  },
  {
   "cell_type": "markdown",
   "metadata": {},
   "source": [
    "First we will loop through the 184 pages that list packages. This will us a series of HTML files that each contain 250 packages (with the following information: package name (and link), version, votes, popularity, description and maintainer). \n",
    "\n",
    "I later found a link that lists all the current packages: \n",
    "\n",
    "[https://aur.archlinux.org/packages.gz](https://aur.archlinux.org/packages.gz). "
   ]
  },
  {
   "cell_type": "code",
   "execution_count": 12,
   "metadata": {
    "collapsed": true
   },
   "outputs": [],
   "source": [
    "os.chdir('../html/pages/')\n",
    "driver = webdriver.PhantomJS()\n",
    "base_url = \"https://aur.archlinux.org/packages/?SeB=nd&K=&outdated=&SB=n&SO=a&PP=250&do_Search=Go&O=\"\n",
    "for i in range(0,184):\n",
    "    driver.get(base_url+str(i*250))\n",
    "    time.sleep(3 + np.random.random())\n",
    "    html = driver.page_source.encode('utf-8')\n",
    "    name = \"page_\" + str(i)\n",
    "    package_list = open(name+'.txt', 'w+')\n",
    "    package_list.write(str(html))\n",
    "    package_list.close()"
   ]
  },
  {
   "cell_type": "code",
   "execution_count": null,
   "metadata": {
    "collapsed": true
   },
   "outputs": [],
   "source": [
    "os.chdir('../html/pages/')\n",
    "files = os.listdir()\n",
    "dict_list = []\n",
    "for file in files:     \n",
    "    f = open(file, 'r')\n",
    "    html = f.read()\n",
    "    b = BeautifulSoup(html, 'lxml')\n",
    "    try: \n",
    "        packages = b.find_all('tr')[1:]\n",
    "        for package in packages:\n",
    "            data = package.find_all('td')\n",
    "            data_dict = {\n",
    "                         \"name\": data[0].find('a').text,\n",
    "                         \"link\": data[0].find('a')['href'],\n",
    "                         \"version\":data[1].text,\n",
    "                         \"votes\": int(data[2].text),\n",
    "                         \"popularity\": float(data[3].text), \n",
    "                         \"description\": data[4].text, \n",
    "                         \"user\": data[5].text.strip('\\\\n').strip('\\\\t').strip('\\\\n')\n",
    "                        }\n",
    "            dict_list.append(data_dict)\n",
    "        print(f)\n",
    "    except Error as e:\n",
    "        print(e)\n",
    "    b.decompose()\n",
    "    f.close()"
   ]
  },
  {
   "cell_type": "code",
   "execution_count": 59,
   "metadata": {},
   "outputs": [
    {
     "data": {
      "text/plain": [
       "(45558, 7)"
      ]
     },
     "execution_count": 59,
     "metadata": {},
     "output_type": "execute_result"
    }
   ],
   "source": [
    "cols = ['name', 'link', 'version', 'votes', 'popularity', 'description', 'user']\n",
    "df = pd.DataFrame(dict_list,columns=cols)\n",
    "df = df.drop_duplicates()\n",
    "df.shape\n",
    "os.chdir('/home/brian/Documents/aur/')\n",
    "df.to_csv('aur_data.csv')"
   ]
  },
  {
   "cell_type": "markdown",
   "metadata": {},
   "source": [
    "### Arch Linux Packages\n",
    "\n",
    "In addition to the AUR, we also have core Arch Linux packages that are not included in the AUR. The script below shows how we can scrape data on these packages. I later realized that these packages are available in the [sitemap](https://www.archlinux.org/sitemap-packages.xml). "
   ]
  },
  {
   "cell_type": "code",
   "execution_count": null,
   "metadata": {
    "collapsed": true,
    "scrolled": true
   },
   "outputs": [],
   "source": [
    "os.chdir('../html/package-pages/')\n",
    "driver = webdriver.PhantomJS()\n",
    "base_url = 'https://www.archlinux.org/packages/?page='\n",
    "for i in range(1,101):\n",
    "    search_url = base_url + str(i) + \"&\"\n",
    "    print(search_url)\n",
    "    driver.get(search_url)\n",
    "    time.sleep(2 + np.random.random())\n",
    "    html = driver.page_source.encode('utf-8')\n",
    "    name = \"package_page_\" + str(i)\n",
    "    package_list = open(name+'.txt', 'w+')\n",
    "    package_list.write(str(html))\n",
    "    package_list.close()"
   ]
  },
  {
   "cell_type": "code",
   "execution_count": 10,
   "metadata": {
    "collapsed": true
   },
   "outputs": [],
   "source": [
    "os.chdir('../html/package-pages/')\n",
    "files = os.listdir()\n",
    "dict_list = []\n",
    "for file in files:     \n",
    "    f = open(file, 'r')\n",
    "    html = f.read()\n",
    "    b = BeautifulSoup(html, 'lxml')\n",
    "    try: \n",
    "        packages = b.find_all('tr')[1:]\n",
    "        for package in packages:\n",
    "            data = package.find_all('td')\n",
    "            data_dict = {\n",
    "                         \"arch\": data[0].text,\n",
    "                         \"repo\": data[1].text,\n",
    "                         \"name\": data[2].text,\n",
    "                         \"link\": data[2].find('a')['href'],\n",
    "                         \"version\": data[3].text,\n",
    "                         \"description\": data[4].text, \n",
    "                         \"last_updated\": data[5].text,\n",
    "                         \"flag_date\": data[6].text\n",
    "                        }\n",
    "            dict_list.append(data_dict)\n",
    "    except:\n",
    "        print(file)\n",
    "    b.decompose()\n",
    "    f.close()"
   ]
  },
  {
   "cell_type": "code",
   "execution_count": 20,
   "metadata": {
    "collapsed": true
   },
   "outputs": [],
   "source": [
    "cols = ['arch', 'repo', 'name', 'link', 'version', 'description', 'last_updated', 'flag_date']\n",
    "packdf = pd.DataFrame(dict_list, columns=cols)\n",
    "packdf = packdf.drop_duplicates()\n",
    "packdf.shape\n",
    "os.chdir('/home/brian/Documents/aur/')\n",
    "df.to_csv('arch_pack_data.csv')"
   ]
  },
  {
   "cell_type": "code",
   "execution_count": 21,
   "metadata": {},
   "outputs": [
    {
     "data": {
      "text/html": [
       "<div>\n",
       "<style>\n",
       "    .dataframe thead tr:only-child th {\n",
       "        text-align: right;\n",
       "    }\n",
       "\n",
       "    .dataframe thead th {\n",
       "        text-align: left;\n",
       "    }\n",
       "\n",
       "    .dataframe tbody tr th {\n",
       "        vertical-align: top;\n",
       "    }\n",
       "</style>\n",
       "<table border=\"1\" class=\"dataframe\">\n",
       "  <thead>\n",
       "    <tr style=\"text-align: right;\">\n",
       "      <th></th>\n",
       "      <th>arch</th>\n",
       "      <th>repo</th>\n",
       "      <th>name</th>\n",
       "      <th>link</th>\n",
       "      <th>version</th>\n",
       "      <th>description</th>\n",
       "      <th>last_updated</th>\n",
       "      <th>flag_date</th>\n",
       "    </tr>\n",
       "  </thead>\n",
       "  <tbody>\n",
       "    <tr>\n",
       "      <th>5547</th>\n",
       "      <td>x86_64</td>\n",
       "      <td>Community</td>\n",
       "      <td>log4cpp</td>\n",
       "      <td>/packages/community/x86_64/log4cpp/</td>\n",
       "      <td>1.1.1-2</td>\n",
       "      <td>A library of C++ classes for flexible logging ...</td>\n",
       "      <td>2015-12-10</td>\n",
       "      <td></td>\n",
       "    </tr>\n",
       "    <tr>\n",
       "      <th>2421</th>\n",
       "      <td>any</td>\n",
       "      <td>Extra</td>\n",
       "      <td>resourceproto</td>\n",
       "      <td>/packages/extra/any/resourceproto/</td>\n",
       "      <td>1.2.0-3</td>\n",
       "      <td>X11 Resource extension wire protocol</td>\n",
       "      <td>2014-07-03</td>\n",
       "      <td></td>\n",
       "    </tr>\n",
       "    <tr>\n",
       "      <th>2803</th>\n",
       "      <td>x86_64</td>\n",
       "      <td>Community</td>\n",
       "      <td>flint</td>\n",
       "      <td>/packages/community/x86_64/flint/</td>\n",
       "      <td>2.5.2-19</td>\n",
       "      <td>A C library for doing number theory</td>\n",
       "      <td>2017-07-08</td>\n",
       "      <td></td>\n",
       "    </tr>\n",
       "  </tbody>\n",
       "</table>\n",
       "</div>"
      ],
      "text/plain": [
       "        arch       repo           name                                 link  \\\n",
       "5547  x86_64  Community        log4cpp  /packages/community/x86_64/log4cpp/   \n",
       "2421     any      Extra  resourceproto   /packages/extra/any/resourceproto/   \n",
       "2803  x86_64  Community          flint    /packages/community/x86_64/flint/   \n",
       "\n",
       "       version                                        description  \\\n",
       "5547   1.1.1-2  A library of C++ classes for flexible logging ...   \n",
       "2421   1.2.0-3               X11 Resource extension wire protocol   \n",
       "2803  2.5.2-19                A C library for doing number theory   \n",
       "\n",
       "     last_updated flag_date  \n",
       "5547   2015-12-10            \n",
       "2421   2014-07-03            \n",
       "2803   2017-07-08            "
      ]
     },
     "execution_count": 21,
     "metadata": {},
     "output_type": "execute_result"
    }
   ],
   "source": [
    "packdf.sample(3)"
   ]
  },
  {
   "cell_type": "code",
   "execution_count": 4,
   "metadata": {},
   "outputs": [
    {
     "data": {
      "text/html": [
       "<div>\n",
       "<style>\n",
       "    .dataframe thead tr:only-child th {\n",
       "        text-align: right;\n",
       "    }\n",
       "\n",
       "    .dataframe thead th {\n",
       "        text-align: left;\n",
       "    }\n",
       "\n",
       "    .dataframe tbody tr th {\n",
       "        vertical-align: top;\n",
       "    }\n",
       "</style>\n",
       "<table border=\"1\" class=\"dataframe\">\n",
       "  <thead>\n",
       "    <tr style=\"text-align: right;\">\n",
       "      <th></th>\n",
       "      <th>name</th>\n",
       "      <th>link</th>\n",
       "      <th>version</th>\n",
       "      <th>votes</th>\n",
       "      <th>popularity</th>\n",
       "      <th>description</th>\n",
       "      <th>user</th>\n",
       "    </tr>\n",
       "  </thead>\n",
       "  <tbody>\n",
       "    <tr>\n",
       "      <th>21959</th>\n",
       "      <td>tornado_systemd</td>\n",
       "      <td>/packages/tornado_systemd/</td>\n",
       "      <td>1.0.1-1</td>\n",
       "      <td>4</td>\n",
       "      <td>0.1</td>\n",
       "      <td>Use socket activation with tornado</td>\n",
       "      <td>ser</td>\n",
       "    </tr>\n",
       "    <tr>\n",
       "      <th>36735</th>\n",
       "      <td>netmon-git</td>\n",
       "      <td>/packages/netmon-git/</td>\n",
       "      <td>0.r12.9b6a452-1</td>\n",
       "      <td>16</td>\n",
       "      <td>0.0</td>\n",
       "      <td>A lightweight tray network monitor useful with...</td>\n",
       "      <td>chmd</td>\n",
       "    </tr>\n",
       "    <tr>\n",
       "      <th>10174</th>\n",
       "      <td>dwm-git</td>\n",
       "      <td>/packages/dwm-git/</td>\n",
       "      <td>1:6.1.6.gab9571b-1</td>\n",
       "      <td>25</td>\n",
       "      <td>0.3</td>\n",
       "      <td>A dynamic window manager for X</td>\n",
       "      <td>bidulock</td>\n",
       "    </tr>\n",
       "  </tbody>\n",
       "</table>\n",
       "</div>"
      ],
      "text/plain": [
       "                  name                        link             version  votes  \\\n",
       "21959  tornado_systemd  /packages/tornado_systemd/             1.0.1-1      4   \n",
       "36735       netmon-git       /packages/netmon-git/     0.r12.9b6a452-1     16   \n",
       "10174          dwm-git          /packages/dwm-git/  1:6.1.6.gab9571b-1     25   \n",
       "\n",
       "       popularity                                        description      user  \n",
       "21959         0.1                 Use socket activation with tornado       ser  \n",
       "36735         0.0  A lightweight tray network monitor useful with...      chmd  \n",
       "10174         0.3                     A dynamic window manager for X  bidulock  "
      ]
     },
     "execution_count": 4,
     "metadata": {},
     "output_type": "execute_result"
    }
   ],
   "source": [
    "os.chdir('/home/brian/Documents/aur/')\n",
    "packdf = pd.read_csv('arch_pack_data.csv', index_col=0)\n",
    "df = pd.read_csv('aur_data.csv', index_col=0)\n",
    "df.sample(3)"
   ]
  },
  {
   "cell_type": "code",
   "execution_count": 25,
   "metadata": {},
   "outputs": [
    {
     "data": {
      "text/html": [
       "<div>\n",
       "<style>\n",
       "    .dataframe thead tr:only-child th {\n",
       "        text-align: right;\n",
       "    }\n",
       "\n",
       "    .dataframe thead th {\n",
       "        text-align: left;\n",
       "    }\n",
       "\n",
       "    .dataframe tbody tr th {\n",
       "        vertical-align: top;\n",
       "    }\n",
       "</style>\n",
       "<table border=\"1\" class=\"dataframe\">\n",
       "  <thead>\n",
       "    <tr style=\"text-align: right;\">\n",
       "      <th></th>\n",
       "      <th>arch</th>\n",
       "      <th>repo</th>\n",
       "      <th>name</th>\n",
       "      <th>link</th>\n",
       "      <th>version</th>\n",
       "      <th>description</th>\n",
       "      <th>last_updated</th>\n",
       "      <th>flag_date</th>\n",
       "    </tr>\n",
       "  </thead>\n",
       "  <tbody>\n",
       "    <tr>\n",
       "      <th>5299</th>\n",
       "      <td>x86_64</td>\n",
       "      <td>Community-Testing</td>\n",
       "      <td>subtitleeditor</td>\n",
       "      <td>/packages/community-testing/x86_64/subtitleedi...</td>\n",
       "      <td>0.54.0-3</td>\n",
       "      <td>A GTK+3 tool to edit subtitles for GNU/Linux/*BSD</td>\n",
       "      <td>2017-11-23</td>\n",
       "      <td>NaN</td>\n",
       "    </tr>\n",
       "    <tr>\n",
       "      <th>593</th>\n",
       "      <td>x86_64</td>\n",
       "      <td>Testing</td>\n",
       "      <td>php-pgsql</td>\n",
       "      <td>/packages/testing/x86_64/php-pgsql/</td>\n",
       "      <td>7.1.12-2</td>\n",
       "      <td>PostgreSQL modules for PHP</td>\n",
       "      <td>2017-11-23</td>\n",
       "      <td>NaN</td>\n",
       "    </tr>\n",
       "    <tr>\n",
       "      <th>1874</th>\n",
       "      <td>x86_64</td>\n",
       "      <td>Extra</td>\n",
       "      <td>avidemux-qt</td>\n",
       "      <td>/packages/extra/x86_64/avidemux-qt/</td>\n",
       "      <td>2.7.0-2</td>\n",
       "      <td>Graphical tool to edit video (filter/re-encode...</td>\n",
       "      <td>2017-11-10</td>\n",
       "      <td>NaN</td>\n",
       "    </tr>\n",
       "  </tbody>\n",
       "</table>\n",
       "</div>"
      ],
      "text/plain": [
       "        arch               repo            name  \\\n",
       "5299  x86_64  Community-Testing  subtitleeditor   \n",
       "593   x86_64            Testing       php-pgsql   \n",
       "1874  x86_64              Extra     avidemux-qt   \n",
       "\n",
       "                                                   link   version  \\\n",
       "5299  /packages/community-testing/x86_64/subtitleedi...  0.54.0-3   \n",
       "593                 /packages/testing/x86_64/php-pgsql/  7.1.12-2   \n",
       "1874                /packages/extra/x86_64/avidemux-qt/   2.7.0-2   \n",
       "\n",
       "                                            description last_updated flag_date  \n",
       "5299  A GTK+3 tool to edit subtitles for GNU/Linux/*BSD   2017-11-23       NaN  \n",
       "593                          PostgreSQL modules for PHP   2017-11-23       NaN  \n",
       "1874  Graphical tool to edit video (filter/re-encode...   2017-11-10       NaN  "
      ]
     },
     "execution_count": 25,
     "metadata": {},
     "output_type": "execute_result"
    }
   ],
   "source": [
    "packdf.sample(3)"
   ]
  },
  {
   "cell_type": "markdown",
   "metadata": {},
   "source": [
    "This looks good! We have have 45558 packages from the AUR, just one more package than the 45557 that were listed when we started scraping, and 9983 packages from Arch Linux. There is a lot of interesting data right here, but there is more information about each package at the package page in the AUR, so we can visit each package page to scrape additional data which includes related packages, comments, contributors, release dates. Here's an example of all the data we have about an individual package: "
   ]
  },
  {
   "cell_type": "markdown",
   "metadata": {},
   "source": [
    "## Individual Packages\n",
    "\n",
    "Let's take [Spotify](https://aur.archlinux.org/packages/spotify/) as an example of how the package meta-data is structured: \n",
    "\n",
    "#### Package Details: spotify 1.0.66.478-1\n",
    "Attribute | Value\n",
    "---|---\n",
    "Git Clone URL: | https://aur.archlinux.org/spotify.git (read-only)\n",
    "Git Clone URL: | https://aur.archlinux.org/spotify.git (read-only)\n",
    "Package Base: | spotify\n",
    "Description: |A proprietary music streaming service\n",
    "Upstream URL: | http://www.spotify.com\n",
    "Licenses: | custom:\"Copyright (c) 2006-2010 Spotify Ltd\"\n",
    "Submitter: | gadget3000\n",
    "Maintainer: | AWhetter\n",
    "Last Packager: | AWhetter\n",
    "Votes: | 1268\n",
    "Popularity: | 49.768907\n",
    "First Submitted: | 2010-07-12 09:17\n",
    "Last Updated: | 2017-10-29 16:29\n",
    "\n",
    "\n",
    "Dependencies (15) | Required by (5)\n",
    "---|---\n",
    "desktop-file-utils (desktop-file-utils-git) | blockify\n",
    "gconf (gconf-gtk2) | blockify-git \n",
    "glib2 (glib2-git, glib2-patched-thumbnailer, glib2-quiet, glib2-sched-policy) | spotify-adkiller-dns-block-git\n",
    "gtk2 (gtk2-patched-filechooser-icon-view, gtk2-patched-gdkwin-nullcheck, gtk2-ubuntu) | spotify-adkiller-git\n",
    "libcurl-compat (libcurl-compat-nostatic) | \n",
    "libsystemd (eudev-git, libeudev-systemd, libsystemd-eudev-standalone, libsystemd-git, libsystemd-selinux) | \n",
    "libx11 (libx11-nokeyboardgrab) | \n",
    "libxss | \n",
    "libxtst | \n",
    "nss (nss-hg) | \n",
    "openssl-1.0 (openssl-1.0-chacha20) | \n",
    "rtmpdump (rtmpdump-git, rtmpdump-ksv-git) | \n",
    "alsa-lib>=1.0.14 | \n",
    "ffmpeg0.10 (optional) – Adds support for playback of local files | \n",
    "zenity (qarma-git, zenity-gtk2) (optional) – Adds support for importing local files | \n",
    "\n",
    "(5) | Sources\n",
    "--- | ---\n",
    "(1) | http://repository.spotify.com/pool/non-free/s/spotify-client/spotify-client_1.0.66.478.g1296534d-39_amd64.deb (x86_64) \n",
    "(2) | http://repository.spotify.com/pool/non-free/s/spotify-client/spotify-client_1.0.66.478.g1296534d-39_i386.deb (i686) \n",
    "(3) | LICENSE \n",
    "(4) | spotify\n",
    "(5) | spotify.protocol\n",
    "\n",
    "\n",
    "#### Pinned Comments\n",
    "\n",
    "NicoHood commented on 2017-05-28 11:45\n",
    "\n",
    ">@Lenovsky There you go. Please upvote this topic if you wish to have spotify in the official ArchLinux [community] repository.\n",
    "> \n",
    "> https://community.spotify.com/t5/Desktop-Linux-Windows-Web-Player/Redistribute-Spotify-on-Linux-Distributions/m-p/1695334#M188735\n",
    "\n",
    "#### Latest Comments\n",
    "\n",
    "skiwithuge commented on 2017-11-23 11:27\n",
    "\n",
    "> 2017 11 23: need to change spotify version to spotify-client_1.0.67.582.g19436fa3-28_amd64.deb \n",
    ">\n",
    ">http://repository.spotify.com/pool/non-free/s/spotify-client/\n",
    "\n",
    "[...]"
   ]
  },
  {
   "cell_type": "markdown",
   "metadata": {},
   "source": [
    "Not all packages list the same information. The spotify package doesn't have architecture, install size or download and install size like other packages do. Some packages have multiple maintainers. Let's write a script that tries to capture the available fields into a dictionary and then create a new DataFrame from that data. \n",
    "\n",
    "We may want to build a separate DataFrame for comments with user, date, comment, pinned/not pinned. \n",
    "\n",
    "For dependency relationshpis we can simply store a list of each and then use a graph package like NetworkX to analyze how the packages are related.\n",
    "\n",
    "Also, it will take some time to scrape all of this package data, so we should write our script in a way that can easily pick up from where it last stopped if we lose our connection during execution. "
   ]
  },
  {
   "cell_type": "code",
   "execution_count": null,
   "metadata": {
    "collapsed": true,
    "scrolled": true
   },
   "outputs": [],
   "source": [
    "os.chdir('/home/brian/Documents/aur/pkgs/')\n",
    "package_html_files = os.listdir()\n",
    "base_url = 'https://aur.archlinux.org/packages/'\n",
    "for _, package in df.iterrows():\n",
    "    file_name = str(package['name'] + '.txt')\n",
    "    if file_name not in package_html_files: \n",
    "        name = package['name']\n",
    "        link = package['name']\n",
    "        search_url = base_url+link + \"/?comments=all\"\n",
    "        print(_)\n",
    "        print(package)\n",
    "        html = requests.get(search_url).text\n",
    "        time.sleep(2)\n",
    "        f = open(file_name, 'w+')\n",
    "        f.write(str(html))\n",
    "        f.close()\n",
    "    else: \n",
    "        print(f'Skip: {_}')\n"
   ]
  },
  {
   "cell_type": "markdown",
   "metadata": {},
   "source": [
    "#### Connection Error\n",
    "\n",
    "I came across the following error when scraping data from each AUR package page: \n",
    "\n",
    "```\n",
    "ConnectionError: HTTPSConnectionPool(host='aur.archlinux.org', port=443): Max retries exceeded with url: /packages/gdevelop-git (Caused by NewConnectionError('<urllib3.connection.VerifiedHTTPSConnection object at 0x7f92c4cfcfd0>: Failed to establish a new connection: [Errno 101] Network is unreachable',))\n",
    "```\n",
    "\n"
   ]
  },
  {
   "cell_type": "markdown",
   "metadata": {},
   "source": [
    "Now that we have the HTML for each package page, we can loop over each one and start building our two data frames: one with detailed information about package data and one for comments. "
   ]
  },
  {
   "cell_type": "code",
   "execution_count": null,
   "metadata": {},
   "outputs": [
    {
     "name": "stdout",
     "output_type": "stream",
     "text": [
      "0 "
     ]
    },
    {
     "ename": "AttributeError",
     "evalue": "ResultSet object has no attribute 'find_all'. You're probably treating a list of items like a single item. Did you call find_all() when you meant to call find()?",
     "output_type": "error",
     "traceback": [
      "\u001b[0;31m------------------------------------------------------------------\u001b[0m",
      "\u001b[0;31mAttributeError\u001b[0m                   Traceback (most recent call last)",
      "\u001b[0;32m<ipython-input-4-aa66e191055c>\u001b[0m in \u001b[0;36m<module>\u001b[0;34m()\u001b[0m\n\u001b[1;32m     52\u001b[0m             \u001b[0mpinned_comment_section\u001b[0m \u001b[0;34m=\u001b[0m \u001b[0mb\u001b[0m\u001b[0;34m.\u001b[0m\u001b[0mfind_all\u001b[0m\u001b[0;34m(\u001b[0m\u001b[0;34m'div'\u001b[0m\u001b[0;34m,\u001b[0m \u001b[0mattrs\u001b[0m\u001b[0;34m=\u001b[0m\u001b[0;34m{\u001b[0m\u001b[0;34m'id'\u001b[0m\u001b[0;34m:\u001b[0m\u001b[0;34m'news'\u001b[0m\u001b[0;34m}\u001b[0m\u001b[0;34m)\u001b[0m\u001b[0;34m\u001b[0m\u001b[0m\n\u001b[1;32m     53\u001b[0m             \u001b[0;32mif\u001b[0m \u001b[0mpinned_comment_section\u001b[0m\u001b[0;34m:\u001b[0m\u001b[0;34m\u001b[0m\u001b[0m\n\u001b[0;32m---> 54\u001b[0;31m                 \u001b[0mpinned_comments\u001b[0m \u001b[0;34m=\u001b[0m \u001b[0mpinned_comment_section\u001b[0m\u001b[0;34m.\u001b[0m\u001b[0mfind_all\u001b[0m\u001b[0;34m(\u001b[0m\u001b[0;34m''\u001b[0m\u001b[0;34m)\u001b[0m\u001b[0;34m\u001b[0m\u001b[0m\n\u001b[0m\u001b[1;32m     55\u001b[0m \u001b[0;34m\u001b[0m\u001b[0m\n\u001b[1;32m     56\u001b[0m             \u001b[0;31m# regular comments\u001b[0m\u001b[0;34m\u001b[0m\u001b[0;34m\u001b[0m\u001b[0m\n",
      "\u001b[0;32m~/anaconda3/lib/python3.6/site-packages/bs4/element.py\u001b[0m in \u001b[0;36m__getattr__\u001b[0;34m(self, key)\u001b[0m\n\u001b[1;32m   1805\u001b[0m     \u001b[0;32mdef\u001b[0m \u001b[0m__getattr__\u001b[0m\u001b[0;34m(\u001b[0m\u001b[0mself\u001b[0m\u001b[0;34m,\u001b[0m \u001b[0mkey\u001b[0m\u001b[0;34m)\u001b[0m\u001b[0;34m:\u001b[0m\u001b[0;34m\u001b[0m\u001b[0m\n\u001b[1;32m   1806\u001b[0m         raise AttributeError(\n\u001b[0;32m-> 1807\u001b[0;31m             \u001b[0;34m\"ResultSet object has no attribute '%s'. You're probably treating a list of items like a single item. Did you call find_all() when you meant to call find()?\"\u001b[0m \u001b[0;34m%\u001b[0m \u001b[0mkey\u001b[0m\u001b[0;34m\u001b[0m\u001b[0m\n\u001b[0m\u001b[1;32m   1808\u001b[0m         )\n",
      "\u001b[0;31mAttributeError\u001b[0m: ResultSet object has no attribute 'find_all'. You're probably treating a list of items like a single item. Did you call find_all() when you meant to call find()?"
     ]
    }
   ],
   "source": [
    "def get_package_from_link(link):\n",
    "    if link[-1] == \"/\":\n",
    "        link = link[:-1]\n",
    "    link = link.split(\"=\")[-1]\n",
    "    link = link.split(\"/\")[-1]\n",
    "    return link\n",
    "\n",
    "pkg_dict_list = []\n",
    "comments_dict_list = []\n",
    "\n",
    "os.chdir('/home/brian/Documents/aur/pkgs/')\n",
    "for _, file in enumerate(os.listdir()[:10]):\n",
    "    print(_, end=\" \")\n",
    "    if file != 'ghostdriver.log':\n",
    "        f = open(file, 'r')\n",
    "        html = f.read()\n",
    "        b = BeautifulSoup(html, 'lxml')\n",
    "        try:\n",
    "            \n",
    "            # attributes\n",
    "            pkginfo = b.find('table', attrs={'id':'pkginfo'}).find_all('tr')\n",
    "            \n",
    "            attr_dict = {}\n",
    "            for attribute in pkginfo:\n",
    "                label = attribute.find('th').text.strip(\": \")\n",
    "                value = attribute.find('td').text\n",
    "                value = value.replace('\\\\n', '\\n')\n",
    "                value = value.replace('\\\\t', '\\t')\n",
    "                value = re.sub('[\\t+]', '', value)\n",
    "                value = re.sub('[\\n+]', '', value)\n",
    "                attr_dict[label] = value\n",
    "\n",
    "            dependencies = []\n",
    "            pkgdeps = b.find('ul', attrs={'id':'pkgdepslist'})\n",
    "            if pkgdeps:\n",
    "                dependencies = [l.find('a')['href'] for l in pkgdeps.find_all('li')]\n",
    "                dependencies = [get_package_from_link(d) for d in dependencies]\n",
    "            attr_dict['pkgdeps'] = dependencies\n",
    "\n",
    "            # required\n",
    "            requirements = []\n",
    "            pkgreqs = b.find('ul', attrs={'id':'pkgreqslist'})\n",
    "            if pkgreqs:\n",
    "                requirements = [l.find('a')['href'] for l in pkgreqs.find_all('li')]     \n",
    "                requirements = [get_package_from_link(r) for r in requirements]\n",
    "            attr_dict['pkgreqs'] = requirements\n",
    "            \n",
    "            pkg_dict_list.append(attr_dict)\n",
    "\n",
    "            # pinned comments\n",
    "            pinned_comments = []\n",
    "            pinned_comment_section = b.find_all('div', attrs={'id':'news'})\n",
    "            if pinned_comment_section:\n",
    "                pinned_comments = pinned_comment_section.find_all('')\n",
    "                \n",
    "            # regular comments\n",
    "            \n",
    "            regular_comments = []\n",
    "            \n",
    "            comment_section = b.find_all('div', attrs={'id':'news'})[-1]\n",
    "            \n",
    "            comment_section.find_all\n",
    "            \n",
    "            \n",
    "            \n",
    "        except TypeError as e: \n",
    "            print(e)\n",
    "        b.decompose()\n",
    "        f.close()\n",
    "        "
   ]
  },
  {
   "cell_type": "code",
   "execution_count": 15,
   "metadata": {
    "collapsed": true
   },
   "outputs": [],
   "source": [
    "df1 = pd.DataFrame(pkg_dict_list)"
   ]
  },
  {
   "cell_type": "code",
   "execution_count": 18,
   "metadata": {},
   "outputs": [
    {
     "data": {
      "text/html": [
       "<div>\n",
       "<style>\n",
       "    .dataframe thead tr:only-child th {\n",
       "        text-align: right;\n",
       "    }\n",
       "\n",
       "    .dataframe thead th {\n",
       "        text-align: left;\n",
       "    }\n",
       "\n",
       "    .dataframe tbody tr th {\n",
       "        vertical-align: top;\n",
       "    }\n",
       "</style>\n",
       "<table border=\"1\" class=\"dataframe\">\n",
       "  <thead>\n",
       "    <tr style=\"text-align: right;\">\n",
       "      <th></th>\n",
       "      <th>Conflicts</th>\n",
       "      <th>Description</th>\n",
       "      <th>First Submitted</th>\n",
       "      <th>Git Clone URL</th>\n",
       "      <th>Groups</th>\n",
       "      <th>Keywords</th>\n",
       "      <th>Last Packager</th>\n",
       "      <th>Last Updated</th>\n",
       "      <th>Licenses</th>\n",
       "      <th>Maintainer</th>\n",
       "      <th>Package Base</th>\n",
       "      <th>Popularity</th>\n",
       "      <th>Provides</th>\n",
       "      <th>Replaces</th>\n",
       "      <th>Submitter</th>\n",
       "      <th>Upstream URL</th>\n",
       "      <th>Votes</th>\n",
       "      <th>pkgdeps</th>\n",
       "      <th>pkgreqs</th>\n",
       "    </tr>\n",
       "  </thead>\n",
       "  <tbody>\n",
       "    <tr>\n",
       "      <th>2433</th>\n",
       "      <td>NaN</td>\n",
       "      <td>5250 terminal emulator for iSeries and AS/400 ...</td>\n",
       "      <td>2005-10-31 15:28</td>\n",
       "      <td>https://aur.archlinux.org/tn5250j.git (read-only)</td>\n",
       "      <td>NaN</td>\n",
       "      <td>NaN</td>\n",
       "      <td>Muflone</td>\n",
       "      <td>2015-11-01 23:43</td>\n",
       "      <td>GPL</td>\n",
       "      <td>Muflone</td>\n",
       "      <td>tn5250j</td>\n",
       "      <td>0.158796</td>\n",
       "      <td>NaN</td>\n",
       "      <td>NaN</td>\n",
       "      <td>None</td>\n",
       "      <td>http://tn5250j.sourceforge.net/</td>\n",
       "      <td>7</td>\n",
       "      <td>[bash, desktop-file-utils, gtk-update-icon-cac...</td>\n",
       "      <td>[tn5250j-plugin-itext, tn5250j-plugin-jtopen, ...</td>\n",
       "    </tr>\n",
       "    <tr>\n",
       "      <th>2170</th>\n",
       "      <td>NaN</td>\n",
       "      <td>Archives of the html version of posix standard</td>\n",
       "      <td>2017-04-11 04:06</td>\n",
       "      <td>https://aur.archlinux.org/posix-standard.git (...</td>\n",
       "      <td>NaN</td>\n",
       "      <td>NaN</td>\n",
       "      <td>lxhillwind</td>\n",
       "      <td>2017-04-11 04:08</td>\n",
       "      <td>custom</td>\n",
       "      <td>lxhillwind</td>\n",
       "      <td>posix-standard</td>\n",
       "      <td>0.000000</td>\n",
       "      <td>NaN</td>\n",
       "      <td>NaN</td>\n",
       "      <td>lxhillwind</td>\n",
       "      <td>http://pubs.opengroup.org/onlinepubs/9699919799/</td>\n",
       "      <td>0</td>\n",
       "      <td>[]</td>\n",
       "      <td>[]</td>\n",
       "    </tr>\n",
       "    <tr>\n",
       "      <th>4444</th>\n",
       "      <td>tio</td>\n",
       "      <td>The simple TTY terminal I/O application</td>\n",
       "      <td>2016-05-20 15:21</td>\n",
       "      <td>https://aur.archlinux.org/tio-git.git (read-only)</td>\n",
       "      <td>NaN</td>\n",
       "      <td>NaN</td>\n",
       "      <td>nickoe</td>\n",
       "      <td>2016-05-20 15:21</td>\n",
       "      <td>GPLv2</td>\n",
       "      <td>nickoe (hundeboll)</td>\n",
       "      <td>tio-git</td>\n",
       "      <td>0.000014</td>\n",
       "      <td>tio</td>\n",
       "      <td>NaN</td>\n",
       "      <td>nickoe</td>\n",
       "      <td>http://tio.github.io</td>\n",
       "      <td>1</td>\n",
       "      <td>[git]</td>\n",
       "      <td>[]</td>\n",
       "    </tr>\n",
       "  </tbody>\n",
       "</table>\n",
       "</div>"
      ],
      "text/plain": [
       "     Conflicts                                        Description  \\\n",
       "2433       NaN  5250 terminal emulator for iSeries and AS/400 ...   \n",
       "2170       NaN     Archives of the html version of posix standard   \n",
       "4444       tio            The simple TTY terminal I/O application   \n",
       "\n",
       "       First Submitted                                      Git Clone URL  \\\n",
       "2433  2005-10-31 15:28  https://aur.archlinux.org/tn5250j.git (read-only)   \n",
       "2170  2017-04-11 04:06  https://aur.archlinux.org/posix-standard.git (...   \n",
       "4444  2016-05-20 15:21  https://aur.archlinux.org/tio-git.git (read-only)   \n",
       "\n",
       "     Groups Keywords Last Packager      Last Updated Licenses  \\\n",
       "2433    NaN      NaN       Muflone  2015-11-01 23:43      GPL   \n",
       "2170    NaN      NaN    lxhillwind  2017-04-11 04:08   custom   \n",
       "4444    NaN      NaN        nickoe  2016-05-20 15:21    GPLv2   \n",
       "\n",
       "              Maintainer    Package Base Popularity Provides Replaces  \\\n",
       "2433             Muflone         tn5250j   0.158796      NaN      NaN   \n",
       "2170          lxhillwind  posix-standard   0.000000      NaN      NaN   \n",
       "4444  nickoe (hundeboll)         tio-git   0.000014      tio      NaN   \n",
       "\n",
       "       Submitter                                      Upstream URL Votes  \\\n",
       "2433        None                   http://tn5250j.sourceforge.net/     7   \n",
       "2170  lxhillwind  http://pubs.opengroup.org/onlinepubs/9699919799/     0   \n",
       "4444      nickoe                              http://tio.github.io     1   \n",
       "\n",
       "                                                pkgdeps  \\\n",
       "2433  [bash, desktop-file-utils, gtk-update-icon-cac...   \n",
       "2170                                                 []   \n",
       "4444                                              [git]   \n",
       "\n",
       "                                                pkgreqs  \n",
       "2433  [tn5250j-plugin-itext, tn5250j-plugin-jtopen, ...  \n",
       "2170                                                 []  \n",
       "4444                                                 []  "
      ]
     },
     "execution_count": 18,
     "metadata": {},
     "output_type": "execute_result"
    }
   ],
   "source": [
    "df1.sample(3)"
   ]
  },
  {
   "cell_type": "markdown",
   "metadata": {},
   "source": [
    "### Cumulative count of AUR Packages \n",
    "\n",
    "Let's take a look at the cumulative count of AUR packages to see how the community has grown since it came into existence. "
   ]
  },
  {
   "cell_type": "code",
   "execution_count": 21,
   "metadata": {
    "scrolled": true
   },
   "outputs": [
    {
     "data": {
      "image/png": "[encoded data removed]",
      "text/plain": [
       "<matplotlib.figure.Figure at 0x7f92c1808128>"
      ]
     },
     "metadata": {},
     "output_type": "display_data"
    }
   ],
   "source": [
    "df1 = df1[df1.notnull()]\n",
    "df1.date1 = pd.to_datetime(df1['First Submitted'])\n",
    "list_of_dates = df1.date1.sort_values()\n",
    "counts = np.arange(0, len(list_of_dates))\n",
    "_ = plt.plot(list_of_dates, counts)\n",
    "_ = plt.title('Number of packages over time')\n",
    "_ = plt.xlabel('Date')\n",
    "_ = plt.ylabel('Cummulative Count')\n"
   ]
  },
  {
   "cell_type": "code",
   "execution_count": 22,
   "metadata": {
    "collapsed": true
   },
   "outputs": [],
   "source": [
    "?np.arange"
   ]
  },
  {
   "cell_type": "markdown",
   "metadata": {},
   "source": [
    "### To-do\n",
    "\n",
    "- Get top commenters\n",
    "- edits if \"edited\" in string\n",
    "- package versions, average releases, regex for #.#.#-#, skip other patterns\n",
    "- get average update/release times\n",
    "\n",
    "- comment times\n",
    "- Comment word clouds\n",
    "- package to differentiate code and links from text\n",
    "- sentiment analysis for comments\n",
    "- bbs?\n",
    "- Graph analysis of package dependencies\n",
    "- Six degrees of separation for arch packages\n",
    "- packages with no dependencies\n",
    "- directed graph vs non-directed graph\n",
    "\n",
    "- included \n"
   ]
  },
  {
   "cell_type": "code",
   "execution_count": null,
   "metadata": {
    "collapsed": true
   },
   "outputs": [],
   "source": []
  }
 ],
 "metadata": {
  "celltoolbar": "Raw Cell Format",
  "kernelspec": {
   "display_name": "Python 3",
   "language": "python",
   "name": "python3"
  },
  "language_info": {
   "codemirror_mode": {
    "name": "ipython",
    "version": 3
   },
   "file_extension": ".py",
   "mimetype": "text/x-python",
   "name": "python",
   "nbconvert_exporter": "python",
   "pygments_lexer": "ipython3",
   "version": "3.6.3"
  }
 },
 "nbformat": 4,
 "nbformat_minor": 2
}
