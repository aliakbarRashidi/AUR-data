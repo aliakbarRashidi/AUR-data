{
 "cells": [
  {
   "cell_type": "markdown",
   "metadata": {},
   "source": [
    "## Arch Wiki User Data"
   ]
  },
  {
   "cell_type": "code",
   "execution_count": 4,
   "metadata": {
    "collapsed": true
   },
   "outputs": [],
   "source": [
    "from selenium import webdriver\n",
    "import re\n",
    "import time\n",
    "import pandas as pd\n",
    "import numpy as np\n",
    "from bs4 import BeautifulSoup\n",
    "import os\n",
    "import requests\n",
    "import datetime\n",
    "\n",
    "%matplotlib inline\n",
    "import matplotlib.pyplot as plt\n",
    "import seaborn as sns\n",
    "import networkx"
   ]
  },
  {
   "cell_type": "code",
   "execution_count": 63,
   "metadata": {
    "collapsed": true
   },
   "outputs": [],
   "source": [
    "df = pd.read_csv('../csv/aur_users.csv', index_col=0)"
   ]
  },
  {
   "cell_type": "code",
   "execution_count": 64,
   "metadata": {},
   "outputs": [
    {
     "data": {
      "text/html": [
       "<div>\n",
       "<style>\n",
       "    .dataframe thead tr:only-child th {\n",
       "        text-align: right;\n",
       "    }\n",
       "\n",
       "    .dataframe thead th {\n",
       "        text-align: left;\n",
       "    }\n",
       "\n",
       "    .dataframe tbody tr th {\n",
       "        vertical-align: top;\n",
       "    }\n",
       "</style>\n",
       "<table border=\"1\" class=\"dataframe\">\n",
       "  <thead>\n",
       "    <tr style=\"text-align: right;\">\n",
       "      <th></th>\n",
       "      <th>id</th>\n",
       "      <th>link</th>\n",
       "      <th>posts</th>\n",
       "      <th>registered</th>\n",
       "      <th>title</th>\n",
       "      <th>username</th>\n",
       "    </tr>\n",
       "  </thead>\n",
       "  <tbody>\n",
       "    <tr>\n",
       "      <th>0</th>\n",
       "      <td>110090</td>\n",
       "      <td>profile.php?id=110090</td>\n",
       "      <td>2</td>\n",
       "      <td>2017-06-12</td>\n",
       "      <td>Member</td>\n",
       "      <td>McFish</td>\n",
       "    </tr>\n",
       "    <tr>\n",
       "      <th>1</th>\n",
       "      <td>21516</td>\n",
       "      <td>profile.php?id=21516</td>\n",
       "      <td>3</td>\n",
       "      <td>2008-12-19</td>\n",
       "      <td>Member</td>\n",
       "      <td>mcfitz2</td>\n",
       "    </tr>\n",
       "    <tr>\n",
       "      <th>2</th>\n",
       "      <td>95813</td>\n",
       "      <td>profile.php?id=95813</td>\n",
       "      <td>1</td>\n",
       "      <td>2015-11-12</td>\n",
       "      <td>Member</td>\n",
       "      <td>mcfloundinho</td>\n",
       "    </tr>\n",
       "    <tr>\n",
       "      <th>3</th>\n",
       "      <td>36160</td>\n",
       "      <td>profile.php?id=36160</td>\n",
       "      <td>58</td>\n",
       "      <td>2010-04-17</td>\n",
       "      <td>Member</td>\n",
       "      <td>McFlow</td>\n",
       "    </tr>\n",
       "    <tr>\n",
       "      <th>4</th>\n",
       "      <td>43902</td>\n",
       "      <td>profile.php?id=43902</td>\n",
       "      <td>1</td>\n",
       "      <td>2010-11-08</td>\n",
       "      <td>Member</td>\n",
       "      <td>McFly</td>\n",
       "    </tr>\n",
       "  </tbody>\n",
       "</table>\n",
       "</div>"
      ],
      "text/plain": [
       "       id                   link  posts  registered   title      username\n",
       "0  110090  profile.php?id=110090      2  2017-06-12  Member        McFish\n",
       "1   21516   profile.php?id=21516      3  2008-12-19  Member       mcfitz2\n",
       "2   95813   profile.php?id=95813      1  2015-11-12  Member  mcfloundinho\n",
       "3   36160   profile.php?id=36160     58  2010-04-17  Member        McFlow\n",
       "4   43902   profile.php?id=43902      1  2010-11-08  Member         McFly"
      ]
     },
     "execution_count": 64,
     "metadata": {},
     "output_type": "execute_result"
    }
   ],
   "source": [
    "df.head()"
   ]
  },
  {
   "cell_type": "code",
   "execution_count": 47,
   "metadata": {
    "collapsed": true
   },
   "outputs": [],
   "source": [
    "df[\"registered_date\"] = pd.to_datetime(df.registered)\n",
    "df[\"registered_date\"] = [i.date() for i in df.registered_date]"
   ]
  },
  {
   "cell_type": "code",
   "execution_count": 48,
   "metadata": {},
   "outputs": [],
   "source": [
    "df[\"days_registered\"] = [(datetime.date.today() - i).days for i in df.registered_date]\n",
    "df[\"posts_per_day\"] = [posts/float(days) for posts, days in zip(df.posts, df.days_registered)]"
   ]
  },
  {
   "cell_type": "code",
   "execution_count": 49,
   "metadata": {
    "scrolled": true
   },
   "outputs": [
    {
     "data": {
      "text/plain": [
       "<matplotlib.collections.PathCollection at 0x7ff0672e15c0>"
      ]
     },
     "execution_count": 49,
     "metadata": {},
     "output_type": "execute_result"
    },
    {
     "data": {
      "image/png": "[encoded data removed]",
      "text/plain": [
       "<matplotlib.figure.Figure at 0x7ff0659790f0>"
      ]
     },
     "metadata": {},
     "output_type": "display_data"
    }
   ],
   "source": [
    "\n",
    "plt.scatter(df.days_registered, df.posts, alpha=0.1)"
   ]
  },
  {
   "cell_type": "code",
   "execution_count": 62,
   "metadata": {
    "scrolled": true
   },
   "outputs": [
    {
     "data": {
      "text/plain": [
       "(array([ 77.,  30.,   9.,   4.,   5.,   2.,   0.,   1.,   1.,   0.,   0.,\n",
       "          0.,   0.,   1.,   2.]),\n",
       " array([ 0.5       ,  1.00817369,  1.51634738,  2.02452107,  2.53269476,\n",
       "         3.04086845,  3.54904215,  4.05721584,  4.56538953,  5.07356322,\n",
       "         5.58173691,  6.0899106 ,  6.59808429,  7.10625798,  7.61443167,\n",
       "         8.12260536]),\n",
       " <a list of 15 Patch objects>)"
      ]
     },
     "execution_count": 62,
     "metadata": {},
     "output_type": "execute_result"
    },
    {
     "data": {
      "image/png": "[encoded data removed]",
      "text/plain": [
       "<matplotlib.figure.Figure at 0x7ff066e642e8>"
      ]
     },
     "metadata": {},
     "output_type": "display_data"
    }
   ],
   "source": [
    "df_posts_per_day = df[(df.posts_per_day>=.5)]\n",
    "plt.hist(df_posts_per_day.posts_per_day, bins=15)"
   ]
  },
  {
   "cell_type": "code",
   "execution_count": 67,
   "metadata": {},
   "outputs": [
    {
     "data": {
      "image/png": "[encoded data removed]",
      "text/plain": [
       "<matplotlib.figure.Figure at 0x7ff066727f28>"
      ]
     },
     "metadata": {},
     "output_type": "display_data"
    },
    {
     "data": {
      "text/plain": [
       "<matplotlib.figure.Figure at 0x7ff066721048>"
      ]
     },
     "metadata": {},
     "output_type": "display_data"
    }
   ],
   "source": [
    "sns.set()\n",
    "df = df[df['registered'].notnull()]\n",
    "df[\"registered\"] = pd.to_datetime(df['registered'])\n",
    "list_of_dates = df[\"registered\"].sort_values()\n",
    "counts = np.arange(0, len(list_of_dates))\n",
    "plt.figure(figsize=(10, 5))\n",
    "_ = plt.plot(list_of_dates, counts)\n",
    "_ = plt.title('Registered Arch Wiki members over time')\n",
    "_ = plt.xlabel('Date')\n",
    "_ = plt.ylabel('Members')\n",
    "plt.show()\n",
    "plt.savefig('/home/brian/Documents/github/briancaffey.github.io/aur/wiki_users.png')"
   ]
  },
  {
   "cell_type": "code",
   "execution_count": null,
   "metadata": {
    "collapsed": true
   },
   "outputs": [],
   "source": []
  }
 ],
 "metadata": {
  "kernelspec": {
   "display_name": "Python 3",
   "language": "python",
   "name": "python3"
  },
  "language_info": {
   "codemirror_mode": {
    "name": "ipython",
    "version": 3
   },
   "file_extension": ".py",
   "mimetype": "text/x-python",
   "name": "python",
   "nbconvert_exporter": "python",
   "pygments_lexer": "ipython3",
   "version": "3.6.3"
  }
 },
 "nbformat": 4,
 "nbformat_minor": 2
}
