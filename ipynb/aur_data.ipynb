{
 "cells": [
  {
   "cell_type": "markdown",
   "metadata": {},
   "source": [
    "## Arch User Repository Data\n",
    "\n",
    "I'm interested in exploring the meta data on the Arch User Repository (AUR). This notebook will show how I scraped data from [https://www.archlinux.org/packages/](https://www.archlinux.org/packages/) and then do some data analysis and visualization. "
   ]
  },
  {
   "cell_type": "markdown",
   "metadata": {},
   "source": [
    "### Scraping data\n",
    "\n",
    "From the AUR we have the following stats: \n",
    "\n",
    "Value | Count\n",
    "---|---\n",
    "Packages | 42909\n",
    "Orphan Packages | 2566\n",
    "Packages added in the past 7 days | 158\n",
    "Packages updated in the past 7 days | 1252\n",
    "Packages updated in the past year | 16338\n",
    "Packages never updated | 9876\n",
    "Registered Users | 48850\n",
    "Trusted Users | 46\n",
    "\n",
    "45557 packages found.\tPage 1 of 183. 250 results per page.\n",
    "\n",
    "In addition to the Arch User Repository, we can also easily gather data for regular Arch Linux packages that are part of the core, community, multilib and extra categories. There are just under 10,000 non-AUR packages that are a core part of Arch Linux. \n"
   ]
  },
  {
   "cell_type": "code",
   "execution_count": 2,
   "metadata": {
    "collapsed": true
   },
   "outputs": [],
   "source": [
    "from selenium import webdriver\n",
    "import re\n",
    "import time\n",
    "import pandas as pd\n",
    "import numpy as np\n",
    "from bs4 import BeautifulSoup\n",
    "import os\n",
    "import requests\n",
    "\n",
    "%matplotlib inline\n",
    "import matplotlib.pyplot as plt\n",
    "import seaborn as sns\n",
    "import networkx"
   ]
  },
  {
   "cell_type": "markdown",
   "metadata": {},
   "source": [
    "First we will loop through the 184 pages that list packages. This will us a series of HTML files that each contain 250 packages (with the following information: package name (and link), version, votes, popularity, description and maintainer). \n",
    "\n",
    "I later found a link that lists all current packages: \n",
    "\n",
    "[https://aur.archlinux.org/packages.gz](https://aur.archlinux.org/packages.gz). "
   ]
  },
  {
   "cell_type": "code",
   "execution_count": 12,
   "metadata": {
    "collapsed": true
   },
   "outputs": [],
   "source": [
    "os.chdir('../html/pages/')\n",
    "driver = webdriver.PhantomJS()\n",
    "base_url = \"https://aur.archlinux.org/packages/?SeB=nd&K=&outdated=&SB=n&SO=a&PP=250&do_Search=Go&O=\"\n",
    "for i in range(0,184):\n",
    "    driver.get(base_url+str(i*250))\n",
    "    time.sleep(3 + np.random.random())\n",
    "    html = driver.page_source.encode('utf-8')\n",
    "    name = \"page_\" + str(i)\n",
    "    package_list = open(name+'.txt', 'w+')\n",
    "    package_list.write(str(html))\n",
    "    package_list.close()"
   ]
  },
  {
   "cell_type": "code",
   "execution_count": null,
   "metadata": {
    "collapsed": true
   },
   "outputs": [],
   "source": [
    "os.chdir('../html/pages/')\n",
    "files = os.listdir()\n",
    "dict_list = []\n",
    "for file in files:     \n",
    "    f = open(file, 'r')\n",
    "    html = f.read()\n",
    "    b = BeautifulSoup(html, 'lxml')\n",
    "    try: \n",
    "        packages = b.find_all('tr')[1:]\n",
    "        for package in packages:\n",
    "            data = package.find_all('td')\n",
    "            data_dict = {\n",
    "                         \"name\": data[0].find('a').text,\n",
    "                         \"link\": data[0].find('a')['href'],\n",
    "                         \"version\":data[1].text,\n",
    "                         \"votes\": int(data[2].text),\n",
    "                         \"popularity\": float(data[3].text), \n",
    "                         \"description\": data[4].text, \n",
    "                         \"user\": data[5].text.strip('\\\\n').strip('\\\\t').strip('\\\\n')\n",
    "                        }\n",
    "            dict_list.append(data_dict)\n",
    "        print(f)\n",
    "    except Error as e:\n",
    "        print(e)\n",
    "    b.decompose()\n",
    "    f.close()"
   ]
  },
  {
   "cell_type": "code",
   "execution_count": 59,
   "metadata": {},
   "outputs": [
    {
     "data": {
      "text/plain": [
       "(45558, 7)"
      ]
     },
     "execution_count": 59,
     "metadata": {},
     "output_type": "execute_result"
    }
   ],
   "source": [
    "cols = ['name', 'link', 'version', 'votes', 'popularity', 'description', 'user']\n",
    "df = pd.DataFrame(dict_list,columns=cols)\n",
    "df = df.drop_duplicates()\n",
    "df.to_csv('../csv/aur_data.csv')"
   ]
  },
  {
   "cell_type": "code",
   "execution_count": 3,
   "metadata": {},
   "outputs": [],
   "source": [
    "df = pd.read_csv('../csv/aur_data.csv', index_col=0)\n",
    "df.shape() #45558,7"
   ]
  },
  {
   "cell_type": "markdown",
   "metadata": {},
   "source": [
    "This looks good! We have have 45558 packages from the AUR, just one more package than the 45557 that were listed when we started scraping, and 9983 packages from Arch Linux. There is a lot of interesting data right here, but there is more information about each package at the package page in the AUR, so we can visit each package page to scrape additional data which includes related packages, comments, contributors, release dates. Here's an example of all the data we have about an individual package: "
   ]
  },
  {
   "cell_type": "markdown",
   "metadata": {},
   "source": [
    "## Individual Packages\n",
    "\n",
    "Let's take [Spotify](https://aur.archlinux.org/packages/spotify/) as an example of how the package meta-data is structured: \n",
    "\n",
    "#### Package Details: spotify 1.0.66.478-1\n",
    "Attribute | Value\n",
    "---|---\n",
    "Git Clone URL: | https://aur.archlinux.org/spotify.git (read-only)\n",
    "Git Clone URL: | https://aur.archlinux.org/spotify.git (read-only)\n",
    "Package Base: | spotify\n",
    "Description: |A proprietary music streaming service\n",
    "Upstream URL: | http://www.spotify.com\n",
    "Licenses: | custom:\"Copyright (c) 2006-2010 Spotify Ltd\"\n",
    "Submitter: | gadget3000\n",
    "Maintainer: | AWhetter\n",
    "Last Packager: | AWhetter\n",
    "Votes: | 1268\n",
    "Popularity: | 49.768907\n",
    "First Submitted: | 2010-07-12 09:17\n",
    "Last Updated: | 2017-10-29 16:29\n",
    "\n",
    "\n",
    "Dependencies (15) | Required by (5)\n",
    "---|---\n",
    "desktop-file-utils (desktop-file-utils-git) | blockify\n",
    "gconf (gconf-gtk2) | blockify-git \n",
    "glib2 (glib2-git, glib2-patched-thumbnailer, glib2-quiet, glib2-sched-policy) | spotify-adkiller-dns-block-git\n",
    "gtk2 (gtk2-patched-filechooser-icon-view, gtk2-patched-gdkwin-nullcheck, gtk2-ubuntu) | spotify-adkiller-git\n",
    "libcurl-compat (libcurl-compat-nostatic) | \n",
    "libsystemd (eudev-git, libeudev-systemd, libsystemd-eudev-standalone, libsystemd-git, libsystemd-selinux) | \n",
    "libx11 (libx11-nokeyboardgrab) | \n",
    "libxss | \n",
    "libxtst | \n",
    "nss (nss-hg) | \n",
    "openssl-1.0 (openssl-1.0-chacha20) | \n",
    "rtmpdump (rtmpdump-git, rtmpdump-ksv-git) | \n",
    "alsa-lib>=1.0.14 | \n",
    "ffmpeg0.10 (optional) – Adds support for playback of local files | \n",
    "zenity (qarma-git, zenity-gtk2) (optional) – Adds support for importing local files | \n",
    "\n",
    "(5) | Sources\n",
    "--- | ---\n",
    "(1) | http://repository.spotify.com/pool/non-free/s/spotify-client/spotify-client_1.0.66.478.g1296534d-39_amd64.deb (x86_64) \n",
    "(2) | http://repository.spotify.com/pool/non-free/s/spotify-client/spotify-client_1.0.66.478.g1296534d-39_i386.deb (i686) \n",
    "(3) | LICENSE \n",
    "(4) | spotify\n",
    "(5) | spotify.protocol\n",
    "\n",
    "\n",
    "#### Pinned Comments\n",
    "\n",
    "NicoHood commented on 2017-05-28 11:45\n",
    "\n",
    ">@Lenovsky There you go. Please upvote this topic if you wish to have spotify in the official ArchLinux [community] repository.\n",
    "> \n",
    "> https://community.spotify.com/t5/Desktop-Linux-Windows-Web-Player/Redistribute-Spotify-on-Linux-Distributions/m-p/1695334#M188735\n",
    "\n",
    "#### Latest Comments\n",
    "\n",
    "skiwithuge commented on 2017-11-23 11:27\n",
    "\n",
    "> 2017 11 23: need to change spotify version to spotify-client_1.0.67.582.g19436fa3-28_amd64.deb \n",
    ">\n",
    ">http://repository.spotify.com/pool/non-free/s/spotify-client/\n",
    "\n",
    "[...]"
   ]
  },
  {
   "cell_type": "markdown",
   "metadata": {},
   "source": [
    "Not all packages list the same information. The spotify package doesn't have architecture, install size or download and install size like other packages do. Some packages have multiple maintainers. Let's write a script that tries to capture the available fields into a dictionary and then create a new DataFrame from that data. \n",
    "\n",
    "We may want to build a separate DataFrame for comments with user, date, comment, pinned/not pinned. \n",
    "\n",
    "For dependency relationshpis we can simply store a list of each and then use a graph package like NetworkX to analyze how the packages are related.\n",
    "\n",
    "Also, it will take some time to scrape all of this package data, so we should write our script in a way that can easily pick up from where it last stopped if we lose our connection during execution. "
   ]
  },
  {
   "cell_type": "code",
   "execution_count": null,
   "metadata": {
    "collapsed": true,
    "scrolled": true
   },
   "outputs": [],
   "source": [
    "os.chdir('../html/pkgs/')\n",
    "package_html_files = os.listdir()\n",
    "base_url = 'https://aur.archlinux.org/packages/'\n",
    "for _, package in df.iterrows():\n",
    "    file_name = str(package['name'] + '.txt')\n",
    "    if file_name not in package_html_files: \n",
    "        name = package['name']\n",
    "        link = package['name']\n",
    "        search_url = base_url+link + \"/?comments=all\"\n",
    "        html = requests.get(search_url).text\n",
    "        time.sleep(2)\n",
    "        f = open(file_name, 'w+')\n",
    "        f.write(str(html))\n",
    "        f.close()\n",
    "    else: \n",
    "        print(f'Skip: {_}')\n"
   ]
  },
  {
   "cell_type": "markdown",
   "metadata": {},
   "source": [
    "We will do "
   ]
  }
 ],
 "metadata": {
  "celltoolbar": "Raw Cell Format",
  "kernelspec": {
   "display_name": "Python 3",
   "language": "python",
   "name": "python3"
  },
  "language_info": {
   "codemirror_mode": {
    "name": "ipython",
    "version": 3
   },
   "file_extension": ".py",
   "mimetype": "text/x-python",
   "name": "python",
   "nbconvert_exporter": "python",
   "pygments_lexer": "ipython3",
   "version": "3.6.3"
  }
 },
 "nbformat": 4,
 "nbformat_minor": 2
}
