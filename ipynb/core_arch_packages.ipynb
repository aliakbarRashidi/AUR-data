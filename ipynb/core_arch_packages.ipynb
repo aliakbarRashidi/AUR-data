{
 "cells": [
  {
   "cell_type": "markdown",
   "metadata": {},
   "source": [
    "### Arch Linux Packages (non-AUR Arch Linux packages)\n",
    "\n",
    "In addition to the AUR, we also have core Arch Linux packages that are not included in the AUR. The script below shows how we can scrape data on these packages. I later realized that these packages are available in the [sitemap](https://www.archlinux.org/sitemap-packages.xml). "
   ]
  },
  {
   "cell_type": "code",
   "execution_count": 1,
   "metadata": {
    "collapsed": true
   },
   "outputs": [],
   "source": [
    "from selenium import webdriver\n",
    "import re\n",
    "import time\n",
    "import pandas as pd\n",
    "import numpy as np\n",
    "from bs4 import BeautifulSoup\n",
    "import os\n",
    "import requests\n",
    "\n",
    "%matplotlib inline\n",
    "import matplotlib.pyplot as plt\n",
    "import seaborn as sns\n",
    "import networkx"
   ]
  },
  {
   "cell_type": "code",
   "execution_count": null,
   "metadata": {
    "collapsed": true
   },
   "outputs": [],
   "source": [
    "os.chdir('../html/package-pages/')\n",
    "driver = webdriver.PhantomJS()\n",
    "base_url = 'https://www.archlinux.org/packages/?page='\n",
    "for i in range(1,101):\n",
    "    search_url = base_url + str(i) + \"&\"\n",
    "    print(search_url)\n",
    "    driver.get(search_url)\n",
    "    time.sleep(2 + np.random.random())\n",
    "    html = driver.page_source.encode('utf-8')\n",
    "    name = \"package_page_\" + str(i)\n",
    "    package_list = open(name+'.txt', 'w+')\n",
    "    package_list.write(str(html))\n",
    "    package_list.close()"
   ]
  },
  {
   "cell_type": "code",
   "execution_count": null,
   "metadata": {
    "collapsed": true
   },
   "outputs": [],
   "source": [
    "os.chdir('../html/package-pages/')\n",
    "files = os.listdir()\n",
    "dict_list = []\n",
    "for file in files:     \n",
    "    f = open(file, 'r')\n",
    "    html = f.read()\n",
    "    b = BeautifulSoup(html, 'lxml')\n",
    "    try: \n",
    "        packages = b.find_all('tr')[1:]\n",
    "        for package in packages:\n",
    "            data = package.find_all('td')\n",
    "            data_dict = {\n",
    "                         \"arch\": data[0].text,\n",
    "                         \"repo\": data[1].text,\n",
    "                         \"name\": data[2].text,\n",
    "                         \"link\": data[2].find('a')['href'],\n",
    "                         \"version\": data[3].text,\n",
    "                         \"description\": data[4].text, \n",
    "                         \"last_updated\": data[5].text,\n",
    "                         \"flag_date\": data[6].text\n",
    "                        }\n",
    "            dict_list.append(data_dict)\n",
    "    except:\n",
    "        print(file)\n",
    "    b.decompose()\n",
    "    f.close()"
   ]
  },
  {
   "cell_type": "code",
   "execution_count": null,
   "metadata": {
    "collapsed": true
   },
   "outputs": [],
   "source": [
    "cols = ['arch', 'repo', 'name', 'link', 'version', 'description', 'last_updated', 'flag_date']\n",
    "df = pd.DataFrame(dict_list, columns=cols)\n",
    "df = df.drop_duplicates()\n",
    "df.to_csv('../csv/arch_pack_data.csv')"
   ]
  },
  {
   "cell_type": "markdown",
   "metadata": {},
   "source": [
    "### Core Arch Package Details"
   ]
  },
  {
   "cell_type": "code",
   "execution_count": 2,
   "metadata": {
    "collapsed": true
   },
   "outputs": [],
   "source": [
    "df = pd.read_csv('../csv/arch_pack_data.csv', index_col=0)"
   ]
  },
  {
   "cell_type": "code",
   "execution_count": null,
   "metadata": {
    "collapsed": true
   },
   "outputs": [],
   "source": []
  }
 ],
 "metadata": {
  "kernelspec": {
   "display_name": "Python 3",
   "language": "python",
   "name": "python3"
  },
  "language_info": {
   "codemirror_mode": {
    "name": "ipython",
    "version": 3
   },
   "file_extension": ".py",
   "mimetype": "text/x-python",
   "name": "python",
   "nbconvert_exporter": "python",
   "pygments_lexer": "ipython3",
   "version": "3.6.3"
  }
 },
 "nbformat": 4,
 "nbformat_minor": 2
}
